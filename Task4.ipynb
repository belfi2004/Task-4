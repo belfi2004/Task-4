{
 "cells": [
  {
   "cell_type": "code",
   "execution_count": 1,
   "id": "90693597-1a60-4322-96e0-fa729f0c021b",
   "metadata": {},
   "outputs": [],
   "source": [
    "# Python program for simple calculator"
   ]
  },
  {
   "cell_type": "code",
   "execution_count": 2,
   "id": "dda6f469-d783-4f78-a527-855fb7925a2e",
   "metadata": {},
   "outputs": [],
   "source": [
    "# Function to add two numbers\n",
    "def add(num1, num2):\n",
    "    return num1 + num2"
   ]
  },
  {
   "cell_type": "code",
   "execution_count": 3,
   "id": "a2af0584-d874-411d-9a27-623a648ce398",
   "metadata": {},
   "outputs": [],
   "source": [
    "#Function to subtract two numbers\n",
    "def subtract(num1, num2):\n",
    "    return num1 - num2"
   ]
  },
  {
   "cell_type": "code",
   "execution_count": 4,
   "id": "1ce2da21-c16c-4fe5-8321-2e231810291e",
   "metadata": {},
   "outputs": [],
   "source": [
    "#Function to multiply two numbers\n",
    "def multiply(num1, num2):\n",
    "    return num1 * num2"
   ]
  },
  {
   "cell_type": "code",
   "execution_count": 5,
   "id": "3f7cdd95-8e6a-4da9-9e02-e465c7d3b242",
   "metadata": {},
   "outputs": [],
   "source": [
    "#Function to divide two numbers\n",
    "def divide(num1, num2):\n",
    "    return num1 / num2"
   ]
  },
  {
   "cell_type": "code",
   "execution_count": 6,
   "id": "cbfbed44-bb7f-456f-80d9-454572930acb",
   "metadata": {},
   "outputs": [
    {
     "name": "stdout",
     "output_type": "stream",
     "text": [
      "please select operation -\n",
      "1. Add\n",
      "2. Subtract\n",
      "3. Multiply\n",
      "4. Divide\n",
      "\n"
     ]
    }
   ],
   "source": [
    "print(\"please select operation -\\n\" \\\n",
    "\"1. Add\\n\" \\\n",
    "      \"2. Subtract\\n\" \\\n",
    "      \"3. Multiply\\n\" \\\n",
    "      \"4. Divide\\n\")"
   ]
  },
  {
   "cell_type": "code",
   "execution_count": 9,
   "id": "dab63b8a-006b-4d01-86f3-c1dff3034d64",
   "metadata": {},
   "outputs": [
    {
     "name": "stdin",
     "output_type": "stream",
     "text": [
      "Select operations from 1,2,3,4 : 3\n",
      "Enter first number:  3\n",
      "Enter second number:  4\n"
     ]
    },
    {
     "name": "stdout",
     "output_type": "stream",
     "text": [
      "3 * 4 = 12\n"
     ]
    }
   ],
   "source": [
    "# Take input from the user\n",
    "select = int(input(\"Select operations from 1,2,3,4 :\"))\n",
    "\n",
    "number_1 = int(input(\"Enter first number: \"))\n",
    "number_2 = int(input(\"Enter second number: \"))\n",
    "\n",
    "if select == 1:\n",
    "    print(number_1, \"+\", number_2, \"=\",\n",
    "          add(number_1, number_2))\n",
    "\n",
    "elif select == 2:\n",
    "    print(number_1, \"-\", number_2, \"=\",\n",
    "          subtract(number_1, number_2))\n",
    "\n",
    "elif select == 3:\n",
    "    print(number_1, \"*\", number_2, \"=\",\n",
    "          multiply(number_1, number_2))\n",
    "\n",
    "elif select == 4:\n",
    "    print(number_1, \"/\", number_2, \"=\",\n",
    "          divide(number_1, number_2))\n",
    "\n",
    "else:\n",
    "    print(\"Invalid input\")"
   ]
  },
  {
   "cell_type": "code",
   "execution_count": 10,
   "id": "9de29b96-2bb7-4b10-a63c-5221a649b985",
   "metadata": {},
   "outputs": [],
   "source": [
    "# pip install tkinter"
   ]
  },
  {
   "cell_type": "code",
   "execution_count": null,
   "id": "3f0a10cd-ac28-47ae-9d03-f714d4d6010d",
   "metadata": {},
   "outputs": [],
   "source": [
    "import tkinter as tk\n",
    "import tkinter.messagebox\n",
    "from tkinter.constants import SUNKEN\n",
    "\n",
    "window = tk.Tk()\n",
    "window.title('Main Flow')\n",
    "frame = tk.Frame(master=window, bg=\"limegreen\", padx=10)\n",
    "frame.pack()\n",
    "entry = tk.Entry(master=frame, relief=SUNKEN, borderwidth=3, width=30)\n",
    "entry.grid(row=0, column=0, columnspan=3, ipady=2, pady=2)\n",
    "\n",
    "def myclick(number):\n",
    "    entry.insert(tk.END, number)\n",
    "\n",
    "def equal():\n",
    "    try:\n",
    "        y = str(eval(entry.get()))\n",
    "        entry.delete(0, tk.END)\n",
    "        entry.insert(0, y)\n",
    "    except:\n",
    "        tkinter.messagebox.showinfo(\"Error\", \"Syntax Error\")\n",
    "\n",
    "def clear():\n",
    "    entry.delete(0, tk.END)\n",
    "\n",
    "button_1 = tk.Button(master=frame, text='1', padx=15,\n",
    "                     pady=5, width=3, command=lambda: myclick(1))\n",
    "button_1.grid(row=1, column=0, pady=2)\n",
    "button_2 = tk.Button(master=frame, text='2', padx=15,\n",
    "                     pady=5, width=3, command=lambda: myclick(2))\n",
    "button_2.grid(row=1, column=1, pady=2)\n",
    "button_3 = tk.Button(master=frame, text='3', padx=15,\n",
    "                     pady=5, width=3, command=lambda: myclick(3))\n",
    "button_3.grid(row=1, column=2, pady=2)\n",
    "button_4 = tk.Button(master=frame, text='4', padx=15,\n",
    "                     pady=5, width=3, command=lambda: myclick(4))\n",
    "button_4.grid(row=2, column=0, pady=2)\n",
    "button_5 = tk.Button(master=frame, text='5', padx=15,\n",
    "                     pady=5, width=3, command=lambda: myclick(5))\n",
    "button_5.grid(row=2, column=1, pady=2)\n",
    "button_6 = tk.Button(master=frame, text='6', padx=15,\n",
    "                     pady=5, width=3, command=lambda: myclick(6))\n",
    "button_6.grid(row=2, column=2, pady=2)\n",
    "button_7 = tk.Button(master=frame, text='7', padx=15,\n",
    "                     pady=5, width=3, command=lambda: myclick(7))\n",
    "button_7.grid(row=3, column=0, pady=2)\n",
    "button_8 = tk.Button(master=frame, text='8', padx=15,\n",
    "                     pady=5, width=3, command=lambda: myclick(8))\n",
    "button_8.grid(row=3, column=1, pady=2)\n",
    "button_9 = tk.Button(master=frame, text='9', padx=15,\n",
    "                     pady=5, width=3, command=lambda: myclick(9))\n",
    "button_9.grid(row=3, column=2, pady=2)\n",
    "button_0 = tk.Button(master=frame, text='0', padx=15,\n",
    "                     pady=5, width=3, command=lambda: myclick(0))\n",
    "button_0.grid(row=4, column=1, pady=2)\n",
    "\n",
    "button_add = tk.Button(master=frame, text=\"+\", padx=15,\n",
    "                       pady=5, width=3, command=lambda: myclick('+'))\n",
    "button_add.grid(row=5, column=0, pady=2)\n",
    "\n",
    "button_subtract = tk.Button(master=frame, text=\"-\", padx=15,\n",
    "                            pady=5, width=3, command=lambda: myclick('-'))\n",
    "button_subtract.grid(row=5, column=1, pady=2)\n",
    "\n",
    "button_multiply = tk.Button(master=frame, text=\"*\", padx=15,\n",
    "                            pady=5, width=3, command=lambda: myclick('*'))\n",
    "button_multiply.grid(row=5, column=2, pady=2)\n",
    "\n",
    "button_div = tk.Button(master=frame, text=\"/\", padx=15,\n",
    "                       pady=5, width=3, command=lambda: myclick('/'))\n",
    "button_div.grid(row=6, column=0, pady=2)\n",
    "\n",
    "button_clear = tk.Button(master=frame, text=\"clear\",\n",
    "                         padx=15, pady=5, width=12, command=clear)\n",
    "button_clear.grid(row=6, column=1, columnspan=2, pady=2)\n",
    "\n",
    "button_equal = tk.Button(master=frame, text=\"=\", padx=15,\n",
    "                         pady=5, width=9, command=equal)\n",
    "button_equal.grid(row=7, column=0, columnspan=3, pady=2)\n",
    "window.mainloop()\n",
    "\n",
    "\n"
   ]
  },
  {
   "cell_type": "code",
   "execution_count": null,
   "id": "4593b517-ab27-48ca-99bc-9713df6330ab",
   "metadata": {},
   "outputs": [],
   "source": []
  },
  {
   "cell_type": "code",
   "execution_count": null,
   "id": "1d926d3b-dcec-47ec-8a0f-9c9ebb29621f",
   "metadata": {},
   "outputs": [],
   "source": []
  },
  {
   "cell_type": "code",
   "execution_count": null,
   "id": "3db00ff0-4410-4170-82b7-2144618af952",
   "metadata": {},
   "outputs": [],
   "source": []
  }
 ],
 "metadata": {
  "kernelspec": {
   "display_name": "Python 3 (ipykernel)",
   "language": "python",
   "name": "python3"
  },
  "language_info": {
   "codemirror_mode": {
    "name": "ipython",
    "version": 3
   },
   "file_extension": ".py",
   "mimetype": "text/x-python",
   "name": "python",
   "nbconvert_exporter": "python",
   "pygments_lexer": "ipython3",
   "version": "3.12.4"
  }
 },
 "nbformat": 4,
 "nbformat_minor": 5
}
